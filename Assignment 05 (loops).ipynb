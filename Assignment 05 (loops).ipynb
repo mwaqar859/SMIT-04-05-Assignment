{
 "cells": [
  {
   "cell_type": "markdown",
   "id": "51c21fe7-f99e-49bc-959f-e06b426f52ac",
   "metadata": {},
   "source": [
    "## Looping Structures"
   ]
  },
  {
   "cell_type": "code",
   "execution_count": null,
   "id": "ef584d3b-7a42-47c4-80bf-1df5b5ed7592",
   "metadata": {},
   "outputs": [],
   "source": [
    "1. Write a Python program to print the numbers from 1 to 10 using a for loop. "
   ]
  },
  {
   "cell_type": "code",
   "execution_count": 3,
   "id": "d995c347-14c5-437b-9986-2ca86195adc8",
   "metadata": {},
   "outputs": [
    {
     "name": "stdout",
     "output_type": "stream",
     "text": [
      "1\n",
      "2\n",
      "3\n",
      "4\n",
      "5\n",
      "6\n",
      "7\n",
      "8\n",
      "9\n",
      "10\n"
     ]
    }
   ],
   "source": [
    "for i in range(1,11):\n",
    "    print(i)"
   ]
  },
  {
   "cell_type": "code",
   "execution_count": null,
   "id": "2531d58a-ffe9-42be-8778-20606a462ddb",
   "metadata": {},
   "outputs": [],
   "source": [
    "2. Write a Python program to print the numbers from 20 to 1 using a while loop."
   ]
  },
  {
   "cell_type": "code",
   "execution_count": 4,
   "id": "f6ec411c-09d8-4b19-bd3b-9ee4e7545d99",
   "metadata": {},
   "outputs": [
    {
     "name": "stdout",
     "output_type": "stream",
     "text": [
      "20\n",
      "19\n",
      "18\n",
      "17\n",
      "16\n",
      "15\n",
      "14\n",
      "13\n",
      "12\n",
      "11\n",
      "10\n",
      "9\n",
      "8\n",
      "7\n",
      "6\n",
      "5\n",
      "4\n",
      "3\n",
      "2\n",
      "1\n"
     ]
    }
   ],
   "source": [
    "number = 20\n",
    "while number >= 1:\n",
    "    print(number)\n",
    "    number -=1"
   ]
  },
  {
   "cell_type": "code",
   "execution_count": null,
   "id": "e4d00986-8ee3-4316-9aeb-1a1353aace3e",
   "metadata": {},
   "outputs": [],
   "source": [
    "3. Write a program to print even numbers from 1 to 10. "
   ]
  },
  {
   "cell_type": "code",
   "execution_count": 17,
   "id": "1a728c8d-8750-4f5e-8a45-6828ac89ebd8",
   "metadata": {},
   "outputs": [
    {
     "name": "stdout",
     "output_type": "stream",
     "text": [
      "2\n",
      "4\n",
      "6\n",
      "8\n",
      "10\n"
     ]
    }
   ],
   "source": [
    "for number in range(1,11):\n",
    "    if number % 2 == 0:\n",
    "        print(number)"
   ]
  },
  {
   "cell_type": "code",
   "execution_count": null,
   "id": "15ab4ed7-3fba-4eb5-b114-dbaf8e53c26f",
   "metadata": {},
   "outputs": [],
   "source": [
    "4. Write a program that prompts the user to enter a number n and prints all the\n",
    "numbers from 1 to n."
   ]
  },
  {
   "cell_type": "code",
   "execution_count": 21,
   "id": "08febb0a-1d15-45f2-8677-0560e365b653",
   "metadata": {},
   "outputs": [
    {
     "name": "stdin",
     "output_type": "stream",
     "text": [
      "enter number 9\n"
     ]
    },
    {
     "name": "stdout",
     "output_type": "stream",
     "text": [
      "1\n",
      "2\n",
      "3\n",
      "4\n",
      "5\n",
      "6\n",
      "7\n",
      "8\n",
      "9\n"
     ]
    }
   ],
   "source": [
    "n = int(input('enter number'))\n",
    "for x in range(1, n+1):\n",
    "    print(x)"
   ]
  },
  {
   "cell_type": "code",
   "execution_count": null,
   "id": "9b0714d0-7355-4bf0-bec7-00e9de70767f",
   "metadata": {},
   "outputs": [],
   "source": [
    "5. Write a program that prompts the user to enter a number n, and then prints all the\n",
    "odd numbers between 1 and n. "
   ]
  },
  {
   "cell_type": "code",
   "execution_count": 30,
   "id": "40858926-9622-48bb-8f5e-3326767fd142",
   "metadata": {},
   "outputs": [
    {
     "name": "stdin",
     "output_type": "stream",
     "text": [
      "enter number 15\n"
     ]
    },
    {
     "name": "stdout",
     "output_type": "stream",
     "text": [
      "1\n",
      "3\n",
      "5\n",
      "7\n",
      "9\n",
      "11\n",
      "13\n",
      "15\n"
     ]
    }
   ],
   "source": [
    "n = int(input('enter number'))\n",
    "for odd in range(1, n+1):\n",
    "    if odd % 2 != 0:\n",
    "        print(odd)"
   ]
  },
  {
   "cell_type": "code",
   "execution_count": null,
   "id": "314d772d-8135-46aa-9d48-341b57f0f622",
   "metadata": {},
   "outputs": [],
   "source": [
    "6. Write a program that prints 'Happy Birthday!' five times on screen. "
   ]
  },
  {
   "cell_type": "code",
   "execution_count": 35,
   "id": "1d87282e-4f94-4454-a807-499c8063adfa",
   "metadata": {},
   "outputs": [
    {
     "name": "stdout",
     "output_type": "stream",
     "text": [
      "Happy Birthday!\n",
      "Happy Birthday!\n",
      "Happy Birthday!\n",
      "Happy Birthday!\n",
      "Happy Birthday!\n"
     ]
    }
   ],
   "source": [
    "for _ in range(5):\n",
    "    print('Happy Birthday!')"
   ]
  },
  {
   "cell_type": "code",
   "execution_count": null,
   "id": "a40fdbc4-0087-4d0d-9a11-8c65acb8c459",
   "metadata": {},
   "outputs": [],
   "source": [
    "7. Write a program that takes a number n as input from the user and generates the first\n",
    "n terms of the series formed by squaring the natural numbers. \n",
    "\n",
    "Sample output\n",
    "Enter a number: 6\n",
    "The first 6 terms of the series are:\n",
    "1 4 9 16 25 36 \n"
   ]
  },
  {
   "cell_type": "code",
   "execution_count": 39,
   "id": "599e5ac0-6a4e-49d0-aeeb-6ebbfa373f5a",
   "metadata": {},
   "outputs": [
    {
     "name": "stdin",
     "output_type": "stream",
     "text": [
      "enter number 6\n"
     ]
    },
    {
     "name": "stdout",
     "output_type": "stream",
     "text": [
      "The first 6 terms of the series are:\n",
      "1 4 9 16 25 36\n"
     ]
    }
   ],
   "source": [
    "n = int(input('enter number'))\n",
    "squares = [i ** 2 for i in range(1, n + 1)]\n",
    "print(f\"The first {n} terms of the series are:\")\n",
    "print(' '.join(map(str, squares)))"
   ]
  },
  {
   "cell_type": "code",
   "execution_count": null,
   "id": "94af5f03-e896-4445-b2f7-13cf952c4d17",
   "metadata": {},
   "outputs": [],
   "source": [
    "8. Write a program that prompts the user to input a number and prints its multiplication \n",
    "table. "
   ]
  },
  {
   "cell_type": "code",
   "execution_count": 1,
   "id": "6fe7b940-bcb4-41ec-a680-86b50e3520c7",
   "metadata": {},
   "outputs": [
    {
     "name": "stdin",
     "output_type": "stream",
     "text": [
      "enter number 5\n"
     ]
    },
    {
     "name": "stdout",
     "output_type": "stream",
     "text": [
      "5 X 1 = 5\n",
      "5 X 2 = 10\n",
      "5 X 3 = 15\n",
      "5 X 4 = 20\n",
      "5 X 5 = 25\n",
      "5 X 6 = 30\n",
      "5 X 7 = 35\n",
      "5 X 8 = 40\n",
      "5 X 9 = 45\n",
      "5 X 10 = 50\n"
     ]
    }
   ],
   "source": [
    "number = int(input('enter number'))\n",
    "for i in range (1,11):\n",
    "    print(f'{number} X {i} = {i * number}')"
   ]
  },
  {
   "cell_type": "code",
   "execution_count": null,
   "id": "853a0711-6ae1-4924-b8a6-8514f0ea606a",
   "metadata": {},
   "outputs": [],
   "source": [
    "9. Write a Python program to print the first 8 terms of an arithmetic progression starting \n",
    "with 3 and having a common difference of 4. \n",
    "The program should output the following sequence: \n",
    "3 7 11 15 19 23 27 31 "
   ]
  },
  {
   "cell_type": "code",
   "execution_count": 2,
   "id": "72c0468f-79a7-45c9-af3c-ca9fd44c4ae8",
   "metadata": {},
   "outputs": [
    {
     "name": "stdout",
     "output_type": "stream",
     "text": [
      "3 7 11 15 19 23 27 31 "
     ]
    }
   ],
   "source": [
    "def print_arithmetic_progression():\n",
    "    num = 3\n",
    "    common_diff = 4\n",
    "    for i in range(8):\n",
    "        print(num, end=\" \")\n",
    "        num += common_diff\n",
    "\n",
    "print_arithmetic_progression()"
   ]
  },
  {
   "cell_type": "code",
   "execution_count": null,
   "id": "715d14c0-cfa8-4cb5-9bde-6f1a42f76dcf",
   "metadata": {},
   "outputs": [],
   "source": [
    "10. Write a Python program to print the first 6 terms of a geometric sequence starting \n",
    "with 2 and having a common ratio of 3. \n",
    "The program should output the following sequence: \n",
    "2 6 18 54 162 486"
   ]
  },
  {
   "cell_type": "code",
   "execution_count": 3,
   "id": "d18619e7-9e35-4d49-819f-f0e04179d845",
   "metadata": {},
   "outputs": [
    {
     "name": "stdout",
     "output_type": "stream",
     "text": [
      "2 6 18 54 162 486 "
     ]
    }
   ],
   "source": [
    "def print_geometric_sequence():\n",
    "    num = 2\n",
    "    common_ratio = 3\n",
    "    for i in range(6):\n",
    "        print(num, end=\" \")\n",
    "        num *= common_ratio\n",
    "\n",
    "print_geometric_sequence()"
   ]
  },
  {
   "cell_type": "code",
   "execution_count": null,
   "id": "c107a123-3bc6-400a-b6c6-319a5a16f009",
   "metadata": {},
   "outputs": [],
   "source": [
    "11. Write a program that asks the user for a positive integer value. The program should \n",
    "calculate the sum of all the integers from 1 up to the number entered. For example, if \n",
    "the user enters 20, the loop will find the sum of 1, 2, 3, 4, ... 20.  "
   ]
  },
  {
   "cell_type": "code",
   "execution_count": 5,
   "id": "40dfe53d-d15e-4720-8b35-cf0e7fe43f4c",
   "metadata": {},
   "outputs": [
    {
     "name": "stdin",
     "output_type": "stream",
     "text": [
      "Enter a positive integer value:  5\n"
     ]
    },
    {
     "name": "stdout",
     "output_type": "stream",
     "text": [
      "The sum of integers from 1 to 5 is: 15\n"
     ]
    }
   ],
   "source": [
    "def sum_of_integers():\n",
    "    num = int(input(\"Enter a positive integer value: \"))\n",
    "    if num < 0:\n",
    "        print(\"Invalid input. Please enter a positive integer value.\")\n",
    "        return\n",
    "    total = 0\n",
    "    for i in range(1, num + 1):\n",
    "        total += i\n",
    "    print(\"The sum of integers from 1 to\", num, \"is:\", total)\n",
    "\n",
    "sum_of_integers()"
   ]
  },
  {
   "cell_type": "code",
   "execution_count": null,
   "id": "b99317fa-a743-4a5e-91a5-dfb7da5c79cf",
   "metadata": {},
   "outputs": [],
   "source": [
    "12. write a program that takes a positive integer N as input and calculates the sum of \n",
    "the reciprocals of all numbers from 1 up to N. The program should display the final sum.\n",
    "Output of the program should be like: \n",
    "Enter a positive integer: 5 \n",
    "The sum of reciprocals from 1 to 5 is: 2.28  "
   ]
  },
  {
   "cell_type": "code",
   "execution_count": 7,
   "id": "13a1ea93-bb33-4ab7-bda9-5f55878323df",
   "metadata": {},
   "outputs": [
    {
     "name": "stdin",
     "output_type": "stream",
     "text": [
      "Enter a positive integer value:  5\n"
     ]
    },
    {
     "name": "stdout",
     "output_type": "stream",
     "text": [
      "The sum of the reciprocals of integers from 1 to 5 is: 2.283333333333333\n"
     ]
    }
   ],
   "source": [
    "def sum_of_reciprocals():\n",
    "    num = int(input(\"Enter a positive integer value: \"))\n",
    "    if num < 1:\n",
    "        print(\"Invalid input. Please enter a positive integer value.\")\n",
    "        return\n",
    "    total = 0\n",
    "    for i in range(1, num + 1):\n",
    "        total += 1.0 / i\n",
    "    print(\"The sum of the reciprocals of integers from 1 to\", num, \"is:\", total)\n",
    "\n",
    "sum_of_reciprocals()"
   ]
  },
  {
   "cell_type": "code",
   "execution_count": null,
   "id": "5f0fda11-86a8-4c81-9305-2fdd0b1ac3ce",
   "metadata": {},
   "outputs": [],
   "source": [
    "13. Write a program that prompts the user to enter a number and repeats this process 5 \n",
    "times. The program should accumulate the numbers entered and then display the final \n",
    "running total. \n",
    "Sample Output: \n",
    "Enter a number: 10 \n",
    "Enter a number: 15 \n",
    "Enter a number: 35 \n",
    "Enter a number: 40 \n",
    "Enter a number: 50 \n",
    "The final running total is: 150   "
   ]
  },
  {
   "cell_type": "code",
   "execution_count": 9,
   "id": "34c8b1ea-f4e0-492d-8bbc-d03618ce98d8",
   "metadata": {},
   "outputs": [
    {
     "name": "stdin",
     "output_type": "stream",
     "text": [
      "Enter a number:  10\n",
      "Enter a number:  15\n",
      "Enter a number:  35\n",
      "Enter a number:  40\n",
      "Enter a number:  50\n"
     ]
    },
    {
     "name": "stdout",
     "output_type": "stream",
     "text": [
      "The final running total is: 150\n"
     ]
    }
   ],
   "source": [
    "def accumulate_numbers():\n",
    "    total = 0\n",
    "    for i in range(5):\n",
    "        num = int(input(\"Enter a number: \"))\n",
    "        total += num\n",
    "    print(\"The final running total is:\", total)\n",
    "\n",
    "accumulate_numbers()"
   ]
  },
  {
   "cell_type": "code",
   "execution_count": null,
   "id": "d83351aa-ec13-49d9-b10b-b6d6ff948414",
   "metadata": {},
   "outputs": [],
   "source": [
    "14. Write a program that prompts the user to enter a positive integer and calculates its \n",
    "factorial. The factorial of a positive integer 'n' is denoted as 'n!' and is calculated by \n",
    "multiplying all the integers from 1 to 'n' together. For example, the factorial of 5 \n",
    "(denoted as 5!) is calculated as 1 x 2 x 3 x 4 x 5.\n",
    "The program should display the factorial value if the input is a positive number, or \n",
    "display a message stating that the factorial does not exist for negative numbers. \n",
    "Additionally, for an input of zero, the program should output that the factorial of 0 is 1.  "
   ]
  },
  {
   "cell_type": "code",
   "execution_count": 11,
   "id": "5b1173d2-fc46-46e3-b6bc-c77df1401a21",
   "metadata": {},
   "outputs": [
    {
     "name": "stdin",
     "output_type": "stream",
     "text": [
      "Enter a positive integer:  5\n"
     ]
    },
    {
     "name": "stdout",
     "output_type": "stream",
     "text": [
      "The factorial of 5 is: 120\n"
     ]
    }
   ],
   "source": [
    "def factorial():\n",
    "    num = int(input(\"Enter a positive integer: \"))\n",
    "    if num < 0:\n",
    "        print(\"The factorial does not exist for negative numbers.\")\n",
    "    elif num == 0:\n",
    "        print(\"The factorial of 0 is 1.\")\n",
    "    else:\n",
    "        factorial = 1\n",
    "        for i in range(1, num + 1):\n",
    "            factorial *= i\n",
    "        print(\"The factorial of\", num, \"is:\", factorial)\n",
    "\n",
    "factorial()"
   ]
  },
  {
   "cell_type": "code",
   "execution_count": null,
   "id": "5ae37675-0b1a-465f-ba14-68c683c334c3",
   "metadata": {},
   "outputs": [],
   "source": [
    "15. Write a Python program that prompts the user to enter a base number and an \n",
    "exponent, and then calculates the power of the base to the exponent. The program \n",
    "should not use the exponentiation operator (**) or the math.pow() function. The \n",
    "program should handle both positive and negative exponents.  "
   ]
  },
  {
   "cell_type": "code",
   "execution_count": 12,
   "id": "6ff35ba6-8355-4416-b4e5-9f39c0a3aef5",
   "metadata": {},
   "outputs": [
    {
     "name": "stdin",
     "output_type": "stream",
     "text": [
      "Enter a base number:  2\n",
      "Enter an exponent:  4\n"
     ]
    },
    {
     "name": "stdout",
     "output_type": "stream",
     "text": [
      "2 raised to the power of 4 is 16\n"
     ]
    }
   ],
   "source": [
    "def power():\n",
    "    base = int(input(\"Enter a base number: \"))\n",
    "    exponent = int(input(\"Enter an exponent: \"))\n",
    "\n",
    "    result = 1\n",
    "    if exponent < 0:\n",
    "        base = 1 / base\n",
    "        exponent = -exponent\n",
    "\n",
    "    for i in range(abs(exponent)):\n",
    "        result *= base\n",
    "\n",
    "    if exponent < 0:\n",
    "        result = 1 / result\n",
    "\n",
    "    print(f\"{base} raised to the power of {exponent} is {result}\")\n",
    "\n",
    "power()"
   ]
  }
 ],
 "metadata": {
  "kernelspec": {
   "display_name": "Python 3 (ipykernel)",
   "language": "python",
   "name": "python3"
  },
  "language_info": {
   "codemirror_mode": {
    "name": "ipython",
    "version": 3
   },
   "file_extension": ".py",
   "mimetype": "text/x-python",
   "name": "python",
   "nbconvert_exporter": "python",
   "pygments_lexer": "ipython3",
   "version": "3.11.7"
  }
 },
 "nbformat": 4,
 "nbformat_minor": 5
}
