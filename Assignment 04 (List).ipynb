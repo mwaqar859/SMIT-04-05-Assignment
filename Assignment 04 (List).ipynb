{
 "cells": [
  {
   "cell_type": "markdown",
   "id": "30a73385-5930-46f7-bdb8-9ec3a4bfd446",
   "metadata": {},
   "source": [
    "### LIST ASSIGNMENT"
   ]
  },
  {
   "cell_type": "code",
   "execution_count": null,
   "id": "4a4477d7-53ec-4af8-83b8-6c71a06c67c1",
   "metadata": {},
   "outputs": [],
   "source": [
    "1. Write a program that accepts a list from user and print the alternate element of list."
   ]
  },
  {
   "cell_type": "code",
   "execution_count": 4,
   "id": "0dc15b6a-798e-4a2f-a281-d39e930401ed",
   "metadata": {},
   "outputs": [
    {
     "name": "stdin",
     "output_type": "stream",
     "text": [
      "Enter the elements of the list separated by spaces:  karachi lahore banu peshawer multan\n"
     ]
    },
    {
     "name": "stdout",
     "output_type": "stream",
     "text": [
      "Alternate elements of the list: ['karachi', 'banu', 'multan']\n"
     ]
    }
   ],
   "source": [
    "# Accept list input from the user\n",
    "user_input = input(\"Enter the elements of the list separated by spaces: \")\n",
    "user_list = user_input.split()\n",
    "\n",
    "# Print alternate elements using list slicing\n",
    "alternate_elements = user_list[::2]\n",
    "\n",
    "# Display the alternate elements\n",
    "print(\"Alternate elements of the list:\", alternate_elements)\n"
   ]
  },
  {
   "cell_type": "code",
   "execution_count": null,
   "id": "3c54d1c1-4f05-470c-b867-fd735f38462c",
   "metadata": {},
   "outputs": [],
   "source": [
    "2. Write a program that accepts a list from user. Your program should reverse the content of list and\n",
    "display it. Do not use reverse() method. "
   ]
  },
  {
   "cell_type": "code",
   "execution_count": 3,
   "id": "c6c2d300-0df1-483d-8d89-8d076b8110ac",
   "metadata": {},
   "outputs": [
    {
     "name": "stdin",
     "output_type": "stream",
     "text": [
      "Enter the elements of the list separated by spaces:  karachi lahore islamabad quetta\n"
     ]
    },
    {
     "name": "stdout",
     "output_type": "stream",
     "text": [
      "Reversed list: ['quetta', 'islamabad', 'lahore', 'karachi']\n"
     ]
    }
   ],
   "source": [
    "# Accept list input from the user\n",
    "user_input = input(\"Enter the elements of the list separated by spaces: \")\n",
    "user_list = user_input.split()\n",
    "\n",
    "# Reverse the list using slicing\n",
    "reversed_list = user_list[::-1]\n",
    "\n",
    "# Display the reversed list\n",
    "print(\"Reversed list:\", reversed_list)\n"
   ]
  },
  {
   "cell_type": "code",
   "execution_count": null,
   "id": "31d8adf4-f1ad-4cd9-bf19-65d9594a5ca4",
   "metadata": {},
   "outputs": [],
   "source": [
    "3. Find and display the largest number of a list without using built-in function max(). Your program\n",
    "should ask the user to input values in list from keyboard. "
   ]
  },
  {
   "cell_type": "code",
   "execution_count": 7,
   "id": "964b8c02-0c92-462b-a295-8c861662f737",
   "metadata": {},
   "outputs": [
    {
     "name": "stdin",
     "output_type": "stream",
     "text": [
      "Enter the numbers in the list separated by spaces:  5 6 7 5 22 92\n"
     ]
    },
    {
     "name": "stdout",
     "output_type": "stream",
     "text": [
      "The largest number in the list is: 92\n"
     ]
    }
   ],
   "source": [
    "# Accept list input from the user\n",
    "user_input = input(\"Enter the numbers in the list separated by spaces: \")\n",
    "user_list = [int(x) for x in user_input.split()]  # Convert input to a list of integers\n",
    "\n",
    "# Initialize the first element as the largest\n",
    "largest_number = user_list[0]\n",
    "\n",
    "# Iterate through the list to find the largest number\n",
    "for number in user_list:\n",
    "    if number > largest_number:\n",
    "        largest_number = number\n",
    "\n",
    "# Display the largest number\n",
    "print(\"The largest number in the list is:\", largest_number)"
   ]
  },
  {
   "cell_type": "code",
   "execution_count": null,
   "id": "43600a21-3b88-4852-8b2c-aa0b38cf46ad",
   "metadata": {},
   "outputs": [],
   "source": [
    "4. Write a program that rotates the element of a list so that the element at the first index moves to the\n",
    "second index, the element in the second index moves to the third index, etc., and the element in the last\n",
    "index moves to the first index. "
   ]
  },
  {
   "cell_type": "code",
   "execution_count": 8,
   "id": "cc550ee2-d95d-423b-96ec-ecbf2c067909",
   "metadata": {},
   "outputs": [
    {
     "name": "stdin",
     "output_type": "stream",
     "text": [
      "Enter the elements of the list separated by spaces:  14 32 87 64 32 69\n"
     ]
    },
    {
     "name": "stdout",
     "output_type": "stream",
     "text": [
      "Rotated list: ['69', '14', '32', '87', '64', '32']\n"
     ]
    }
   ],
   "source": [
    "# Accept list input from the user\n",
    "user_input = input(\"Enter the elements of the list separated by spaces: \")\n",
    "user_list = user_input.split()\n",
    "\n",
    "# Rotate the list by moving the last element to the front\n",
    "rotated_list = [user_list[-1]] + user_list[:-1]\n",
    "\n",
    "# Display the rotated list\n",
    "print(\"Rotated list:\", rotated_list)"
   ]
  },
  {
   "cell_type": "code",
   "execution_count": null,
   "id": "168ba79d-0fe7-4598-ba4c-768da6fa610e",
   "metadata": {},
   "outputs": [],
   "source": [
    "5. Write a program that input a string and ask user to delete a given word from a string."
   ]
  },
  {
   "cell_type": "code",
   "execution_count": 10,
   "id": "f914baee-3096-4dd0-94fe-6d48d29e936f",
   "metadata": {},
   "outputs": [
    {
     "name": "stdin",
     "output_type": "stream",
     "text": [
      "Enter a string:  NPakistan\n",
      "Enter the word you want to delete:  N\n"
     ]
    },
    {
     "name": "stdout",
     "output_type": "stream",
     "text": [
      "Updated string: Pakistan\n"
     ]
    }
   ],
   "source": [
    "# Accept string and word to delete from the user\n",
    "input_string = input(\"Enter a string: \")\n",
    "word_to_delete = input(\"Enter the word you want to delete: \")\n",
    "\n",
    "# Remove the word from the string\n",
    "updated_string = input_string.replace(word_to_delete, \"\").strip()\n",
    "\n",
    "# Display the updated string\n",
    "print(\"Updated string:\", updated_string)"
   ]
  },
  {
   "cell_type": "code",
   "execution_count": null,
   "id": "a86d5fd6-c88d-4492-952f-dc0f408d72f3",
   "metadata": {},
   "outputs": [],
   "source": [
    "6. Write a program that reads a string from the user containing a date in the form mm/dd/yyyy. It\n",
    "should print the date in the form March 12, 2021. "
   ]
  },
  {
   "cell_type": "code",
   "execution_count": 23,
   "id": "aa8f28b3-3867-46f0-a5a3-75d518a41b26",
   "metadata": {},
   "outputs": [
    {
     "name": "stdin",
     "output_type": "stream",
     "text": [
      "Enter a date in the format mm/dd/yyyy:  march/12/2021\n"
     ]
    },
    {
     "name": "stdout",
     "output_type": "stream",
     "text": [
      "Invalid input format. Please ensure the date is in the format mm/dd/yyyy.\n"
     ]
    }
   ],
   "source": [
    "# List of month names\n",
    "months = [\"January\", \"February\", \"March\", \"April\", \"May\", \"June\",\n",
    "          \"July\", \"August\", \"September\", \"October\", \"November\", \"December\"]\n",
    "\n",
    "try:\n",
    "    # Read and split the date input\n",
    "    input_date = input(\"Enter a date in the format mm/dd/yyyy: \")\n",
    "    month, day, year = input_date.split(\"/\")\n",
    "    \n",
    "    # Convert month and day to integers\n",
    "    month = int(month)\n",
    "    day = int(day)\n",
    "    \n",
    "    # Ensure month is valid\n",
    "    if 1 <= month <= 12:\n",
    "        # Print the formatted date\n",
    "        print(f\"{months[month - 1]} {day}, {year}\")\n",
    "    else:\n",
    "        print(\"Invalid month. Please enter a month between 01 and 12.\")\n",
    "except ValueError:\n",
    "    print(\"Invalid input format. Please ensure the date is in the format mm/dd/yyyy.\")\n"
   ]
  },
  {
   "cell_type": "code",
   "execution_count": null,
   "id": "1da278fb-5d4c-43d8-aad1-4581cd5c5ab5",
   "metadata": {},
   "outputs": [],
   "source": [
    "7. Write a program with a function that accepts a string from keyboard and create a new string after\n",
    "converting character of each word capitalized. For instance, if the sentence is \"stop and smell the roses.\"\n",
    "the output should be \"Stop And Smell The Roses\" "
   ]
  },
  {
   "cell_type": "code",
   "execution_count": 25,
   "id": "62a1bb3c-42c3-4690-aeee-5f39b7b66aaa",
   "metadata": {},
   "outputs": [
    {
     "name": "stdin",
     "output_type": "stream",
     "text": [
      "Enter a sentence:  stop and smell the roses\n"
     ]
    },
    {
     "name": "stdout",
     "output_type": "stream",
     "text": [
      "Capitalized sentence: Stop And Smell The Roses\n"
     ]
    }
   ],
   "source": [
    "def capitalize_words(sentence):\n",
    "    return ' '.join(word.capitalize() for word in sentence.split())\n",
    "\n",
    "# Read input from the user and print the capitalized sentence\n",
    "print(\"Capitalized sentence:\", capitalize_words(input(\"Enter a sentence: \")))\n"
   ]
  },
  {
   "cell_type": "code",
   "execution_count": null,
   "id": "5237809b-013a-4184-b687-b113214d84cb",
   "metadata": {},
   "outputs": [],
   "source": [
    "8. Find the sum of each row of matrix of size m x n. For example for the following matrix output will be\n",
    "like this : "
   ]
  },
  {
   "cell_type": "code",
   "execution_count": 29,
   "id": "15d2feca-41fb-4802-b3ee-d6814fd7520c",
   "metadata": {},
   "outputs": [
    {
     "name": "stdin",
     "output_type": "stream",
     "text": [
      "Enter the number of rows (m):  2\n",
      "Enter the number of columns (n):  5\n",
      " 32\n",
      " 31\n"
     ]
    },
    {
     "name": "stdout",
     "output_type": "stream",
     "text": [
      "Sum of row 1 = 32\n",
      "Sum of row 2 = 31\n"
     ]
    }
   ],
   "source": [
    "# Read matrix dimensions\n",
    "m = int(input(\"Enter the number of rows (m): \"))\n",
    "n = int(input(\"Enter the number of columns (n): \"))\n",
    "\n",
    "# Read and sum each row of the matrix\n",
    "row_sums = [sum(map(int, input().split())) for _ in range(m)]\n",
    "\n",
    "# Print the sums in the specified format\n",
    "for i, row_sum in enumerate(row_sums, 1):\n",
    "    print(f\"Sum of row {i} = {row_sum}\")"
   ]
  },
  {
   "cell_type": "code",
   "execution_count": null,
   "id": "a02a61ad-f40e-4653-96fd-52bd95edd9e4",
   "metadata": {},
   "outputs": [],
   "source": [
    "9. Write a program to add two matrices of size n x m."
   ]
  },
  {
   "cell_type": "code",
   "execution_count": null,
   "id": "da03f536-6f36-4541-9cfd-e7b52f83da9d",
   "metadata": {},
   "outputs": [],
   "source": [
    "10. Write a program to multiply two matrices "
   ]
  },
  {
   "cell_type": "code",
   "execution_count": 44,
   "id": "24f0e9c7-2828-43a2-b35a-f4f17f27d1e6",
   "metadata": {},
   "outputs": [
    {
     "name": "stdin",
     "output_type": "stream",
     "text": [
      "Enter the number of rows for the first matrix (n1):  4\n",
      "Enter the number of columns for the first matrix (p1):  4\n",
      "Enter the number of rows for the second matrix (p2):  4\n",
      "Enter the number of columns for the second matrix (m2):  4\n"
     ]
    },
    {
     "name": "stdout",
     "output_type": "stream",
     "text": [
      "Enter the elements of the first matrix:\n"
     ]
    },
    {
     "name": "stdin",
     "output_type": "stream",
     "text": [
      " 3 2 1\n"
     ]
    },
    {
     "ename": "TypeError",
     "evalue": "'list' object is not callable",
     "output_type": "error",
     "traceback": [
      "\u001b[1;31m---------------------------------------------------------------------------\u001b[0m",
      "\u001b[1;31mTypeError\u001b[0m                                 Traceback (most recent call last)",
      "Cell \u001b[1;32mIn[44], line 17\u001b[0m\n\u001b[0;32m     15\u001b[0m \u001b[38;5;66;03m# Read matrices\u001b[39;00m\n\u001b[0;32m     16\u001b[0m \u001b[38;5;28mprint\u001b[39m(\u001b[38;5;124m\"\u001b[39m\u001b[38;5;124mEnter the elements of the first matrix:\u001b[39m\u001b[38;5;124m\"\u001b[39m)\n\u001b[1;32m---> 17\u001b[0m matrix1 \u001b[38;5;241m=\u001b[39m [\u001b[38;5;28mlist\u001b[39m(\u001b[38;5;28mmap\u001b[39m(\u001b[38;5;28mint\u001b[39m, \u001b[38;5;28minput\u001b[39m()\u001b[38;5;241m.\u001b[39msplit())) \u001b[38;5;28;01mfor\u001b[39;00m _ \u001b[38;5;129;01min\u001b[39;00m \u001b[38;5;28mrange\u001b[39m(n1)]\n\u001b[0;32m     19\u001b[0m \u001b[38;5;28mprint\u001b[39m(\u001b[38;5;124m\"\u001b[39m\u001b[38;5;124mEnter the elements of the second matrix:\u001b[39m\u001b[38;5;124m\"\u001b[39m)\n\u001b[0;32m     20\u001b[0m matrix2 \u001b[38;5;241m=\u001b[39m [\u001b[38;5;28mlist\u001b[39m(\u001b[38;5;28mmap\u001b[39m(\u001b[38;5;28mint\u001b[39m, \u001b[38;5;28minput\u001b[39m()\u001b[38;5;241m.\u001b[39msplit())) \u001b[38;5;28;01mfor\u001b[39;00m _ \u001b[38;5;129;01min\u001b[39;00m \u001b[38;5;28mrange\u001b[39m(p2)]\n",
      "Cell \u001b[1;32mIn[44], line 17\u001b[0m, in \u001b[0;36m<listcomp>\u001b[1;34m(.0)\u001b[0m\n\u001b[0;32m     15\u001b[0m \u001b[38;5;66;03m# Read matrices\u001b[39;00m\n\u001b[0;32m     16\u001b[0m \u001b[38;5;28mprint\u001b[39m(\u001b[38;5;124m\"\u001b[39m\u001b[38;5;124mEnter the elements of the first matrix:\u001b[39m\u001b[38;5;124m\"\u001b[39m)\n\u001b[1;32m---> 17\u001b[0m matrix1 \u001b[38;5;241m=\u001b[39m [\u001b[38;5;28mlist\u001b[39m(\u001b[38;5;28mmap\u001b[39m(\u001b[38;5;28mint\u001b[39m, \u001b[38;5;28minput\u001b[39m()\u001b[38;5;241m.\u001b[39msplit())) \u001b[38;5;28;01mfor\u001b[39;00m _ \u001b[38;5;129;01min\u001b[39;00m \u001b[38;5;28mrange\u001b[39m(n1)]\n\u001b[0;32m     19\u001b[0m \u001b[38;5;28mprint\u001b[39m(\u001b[38;5;124m\"\u001b[39m\u001b[38;5;124mEnter the elements of the second matrix:\u001b[39m\u001b[38;5;124m\"\u001b[39m)\n\u001b[0;32m     20\u001b[0m matrix2 \u001b[38;5;241m=\u001b[39m [\u001b[38;5;28mlist\u001b[39m(\u001b[38;5;28mmap\u001b[39m(\u001b[38;5;28mint\u001b[39m, \u001b[38;5;28minput\u001b[39m()\u001b[38;5;241m.\u001b[39msplit())) \u001b[38;5;28;01mfor\u001b[39;00m _ \u001b[38;5;129;01min\u001b[39;00m \u001b[38;5;28mrange\u001b[39m(p2)]\n",
      "\u001b[1;31mTypeError\u001b[0m: 'list' object is not callable"
     ]
    }
   ],
   "source": [
    "def multiply_matrices(A, B):\n",
    "    n, p = len(A), len(B[0])\n",
    "    return [[sum(A[i][k] * B[k][j] for k in range(len(B))) for j in range(p)] for i in range(n)]\n",
    "\n",
    "# Read matrix dimensions\n",
    "n1 = int(input(\"Enter the number of rows for the first matrix (n1): \"))\n",
    "p1 = int(input(\"Enter the number of columns for the first matrix (p1): \"))\n",
    "\n",
    "p2 = int(input(\"Enter the number of rows for the second matrix (p2): \"))\n",
    "m2 = int(input(\"Enter the number of columns for the second matrix (m2): \"))\n",
    "\n",
    "if p1 != p2:\n",
    "    raise ValueError(\"Number of columns in the first matrix must equal number of rows in the second matrix.\")\n",
    "\n",
    "# Read matrices\n",
    "print(\"Enter the elements of the first matrix:\")\n",
    "matrix1 = [list(map(int, input().split())) for _ in range(n1)]\n",
    "\n",
    "print(\"Enter the elements of the second matrix:\")\n",
    "matrix2 = [list(map(int, input().split())) for _ in range(p2)]\n",
    "\n",
    "# Multiply and print result\n",
    "result = multiply_matrices(matrix1, matrix2)\n",
    "print(\"Product of the matrices:\")\n",
    "for row in result:\n",
    "    print(' '.join(map(str, row)))\n"
   ]
  }
 ],
 "metadata": {
  "kernelspec": {
   "display_name": "Python 3 (ipykernel)",
   "language": "python",
   "name": "python3"
  },
  "language_info": {
   "codemirror_mode": {
    "name": "ipython",
    "version": 3
   },
   "file_extension": ".py",
   "mimetype": "text/x-python",
   "name": "python",
   "nbconvert_exporter": "python",
   "pygments_lexer": "ipython3",
   "version": "3.11.7"
  }
 },
 "nbformat": 4,
 "nbformat_minor": 5
}
